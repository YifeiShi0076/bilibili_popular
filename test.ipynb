{
 "cells": [
  {
   "cell_type": "code",
   "execution_count": 1,
   "id": "4763f28e-923c-4881-a307-a59be7750846",
   "metadata": {},
   "outputs": [],
   "source": [
    "from selenium import webdriver\n",
    "from selenium.webdriver.common.by import By\n",
    "from selenium.webdriver.chrome.service import Service\n",
    "from selenium.webdriver.common.action_chains import ActionChains\n",
    "import time\n",
    "import numpy as np"
   ]
  },
  {
   "cell_type": "code",
   "execution_count": 2,
   "id": "b4aabbf6-e751-49f7-aa3f-f17a7f1827ba",
   "metadata": {},
   "outputs": [],
   "source": [
    "def preprocess_count(value):\n",
    "    \"\"\"\n",
    "    将带“万”的字符串转化为数字。\n",
    "    如果是纯数字字符串，直接转为 int。\n",
    "    如果包含“万”，将其转化为对应的数字（乘以 10000）。\n",
    "    \"\"\"\n",
    "    if '万' in value:\n",
    "        value = value.replace('万', '')  # 去掉“万”\n",
    "        return int(float(value) * 10000)  # 转化为数字后乘以 10000\n",
    "    else:\n",
    "        return int(value)  # 直接转为数字"
   ]
  },
  {
   "cell_type": "code",
   "execution_count": 3,
   "id": "09069158-4f77-4d61-84f0-616a29fd5ec6",
   "metadata": {},
   "outputs": [
    {
     "name": "stdout",
     "output_type": "stream",
     "text": [
      "DataFrame 已成功存储到 bilibili_popular_videos.csv 文件中。\n"
     ]
    }
   ],
   "source": [
    "from selenium import webdriver\n",
    "from selenium.webdriver.common.action_chains import ActionChains\n",
    "from time import sleep\n",
    "import pandas as pd\n",
    "\n",
    "# 填写chromedriver的目录，避免驱动初始化时耗时过长\n",
    "service = Service('F:\\Anaconda\\chromedriver.exe')\n",
    "# 初始化 WebDriver\n",
    "driver = webdriver.Chrome(service=service)\n",
    "\n",
    "# 打开目标网页\n",
    "driver.get(\"https://www.bilibili.com/v/popular/all\")\n",
    "\n",
    "# 等待页面加载\n",
    "sleep(2)\n",
    "\n",
    "# 创建 ActionChains 对象\n",
    "action = ActionChains(driver)\n",
    "\n",
    "for i in range(0,25):\n",
    "    # 模拟鼠标滚轮向下滚动 500 像素\n",
    "    action.scroll_by_amount(0, 5000).perform()\n",
    "    time.sleep(1)\n",
    "\n",
    "# card_list_div = driver.find_element(By.CLASS_NAME, \"card-list\")\n",
    "# video_names = card_list_div.find_elements(By.CLASS_NAME, \"video-name\")\n",
    "# up_names = card_list_div.find_elements(By.CLASS_NAME, \"up-name__text\")\n",
    "# plays = card_list_div.find_elements(By.CLASS_NAME, \"play-text\")\n",
    "# dms = card_list_div.find_elements(By.CLASS_NAME, \"like-text\")\n",
    "\n",
    "# print(card_list_div.text)\n",
    "\n",
    "# 获取视频信息\n",
    "card_list_div = driver.find_element(By.CLASS_NAME, \"card-list\")\n",
    "video_names = [video.text for video in card_list_div.find_elements(By.CLASS_NAME, \"video-name\")]\n",
    "up_names = [up.text for up in card_list_div.find_elements(By.CLASS_NAME, \"up-name__text\")]\n",
    "plays = [play.text for play in card_list_div.find_elements(By.CLASS_NAME, \"play-text\")]\n",
    "dms = [dm.text for dm in card_list_div.find_elements(By.CLASS_NAME, \"like-text\")]\n",
    "\n",
    "plays = [preprocess_count(play) for play in plays]\n",
    "dms = [preprocess_count(dm) for dm in dms]\n",
    "\n",
    "# 创建 DataFrame\n",
    "data = {\n",
    "    'Video Name': video_names,\n",
    "    'Uploader Name': up_names,\n",
    "    'Play Count': plays,\n",
    "    'DM Count': dms\n",
    "}\n",
    "df = pd.DataFrame(data)\n",
    "\n",
    "# 将 DataFrame 存储到 CSV 文件中\n",
    "df.to_csv('bilibili_popular_videos.csv', index=False, encoding='utf-8-sig')\n",
    "\n",
    "print(\"DataFrame 已成功存储到 bilibili_popular_videos.csv 文件中。\")\n",
    "\n",
    "# 关闭浏览器\n",
    "driver.quit()"
   ]
  },
  {
   "cell_type": "code",
   "execution_count": 4,
   "id": "fab7ca24-c0b5-4307-ac0c-281f7006736e",
   "metadata": {},
   "outputs": [
    {
     "name": "stdout",
     "output_type": "stream",
     "text": [
      "                          Video Name Uploader Name  Play Count  DM Count\n",
      "0                      全片！原创动画《浮生一戏》      丁丁框sheya      210000       440\n",
      "1                           来去曼波🎵加长版        还给我神ID      249000       115\n",
      "2                     揭秘！吃一顿国宴是什么体验？          特厨隋坡     6658000     33000\n",
      "3                          热热热热热热热热！         小傲想睡觉      386000      6042\n",
      "4                              “花 海”          天气温云      249000       504\n",
      "..                               ...           ...         ...       ...\n",
      "495  三国杀up锐评新三国106：慈善大家诸葛孔明，直接散尽刘备家财        吃蛋挞的折棒      376000      7057\n",
      "496      【矢量突破#1 无机物】全关卡 尽量摆完挂机 简单好抄           萧然Q     5064000      6036\n",
      "497   【DNF手游】火力轰炸，弹无虚发！机械师、弹药专家CG上线！      地下城与勇士手游     1037000      1006\n",
      "498   当梦想照进“积木”!！喜提赛道猛兽阿斯顿马丁Valkyrie       有车有肉的肉肉      417000       865\n",
      "499              沙丘终于出游戏了！巨物沙虫，沙漠生存！        大老师Sam      800000      1128\n",
      "\n",
      "[500 rows x 4 columns]\n"
     ]
    }
   ],
   "source": [
    "# 打印 DataFrame\n",
    "print(df)"
   ]
  }
 ],
 "metadata": {
  "kernelspec": {
   "display_name": "base",
   "language": "python",
   "name": "python3"
  },
  "language_info": {
   "codemirror_mode": {
    "name": "ipython",
    "version": 3
   },
   "file_extension": ".py",
   "mimetype": "text/x-python",
   "name": "python",
   "nbconvert_exporter": "python",
   "pygments_lexer": "ipython3",
   "version": "3.11.7"
  }
 },
 "nbformat": 4,
 "nbformat_minor": 5
}

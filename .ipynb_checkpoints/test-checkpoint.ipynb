{
 "cells": [
  {
   "cell_type": "code",
   "execution_count": 2,
   "id": "4763f28e-923c-4881-a307-a59be7750846",
   "metadata": {},
   "outputs": [],
   "source": [
    "from selenium import webdriver\n",
    "from selenium.webdriver.common.by import By\n",
    "from selenium.webdriver.chrome.service import Service\n",
    "import time\n",
    "import numpy as np"
   ]
  },
  {
   "cell_type": "code",
   "execution_count": 27,
   "id": "c690f8c7-af87-406c-aa6b-c283f813feac",
   "metadata": {},
   "outputs": [
    {
     "name": "stdout",
     "output_type": "stream",
     "text": [
      "281.8万\n",
      "393.6万\n",
      "18.7万\n",
      "90.6万\n",
      "24万\n",
      "93.7万\n",
      "23.2万\n",
      "11.3万\n",
      "37.2万\n",
      "97.8万\n",
      "35.8万\n",
      "20.2万\n",
      "415.4万\n",
      "147.2万\n",
      "83.5万\n",
      "134万\n",
      "336.1万\n",
      "28.6万\n",
      "42.2万\n",
      "3.4万\n"
     ]
    }
   ],
   "source": [
    "# 填写chromedriver的目录，避免驱动初始化时耗时过长\n",
    "service = Service('F:\\Anaconda\\chromedriver.exe')\n",
    "# 初始化 WebDriver\n",
    "driver = webdriver.Chrome(service=service)\n",
    "\n",
    "driver.get(\"https://www.bilibili.com/v/popular/all\")\n",
    "time.sleep(3)\n",
    "\n",
    "card_list_div = driver.find_element(By.CLASS_NAME, \"card-list\")\n",
    "video_names = card_list_div.find_elements(By.CLASS_NAME, \"video-name\")\n",
    "up_names = card_list_div.find_elements(By.CLASS_NAME, \"up-name__text\")\n",
    "plays = card_list_div.find_elements(By.CLASS_NAME, \"play-text\")\n",
    "\n",
    "for name in plays:\n",
    "    print(name.text)\n",
    "\n",
    "driver.quit()"
   ]
  },
  {
   "cell_type": "code",
   "execution_count": 7,
   "id": "09069158-4f77-4d61-84f0-616a29fd5ec6",
   "metadata": {},
   "outputs": [
    {
     "name": "stdout",
     "output_type": "stream",
     "text": [
      "<!DOCTYPE html><html><head>\n",
      "<!-- Dejavu Release Version 103697-->\n",
      "<script>\n",
      "window._BiliGreyResult = {\n",
      "  method: \"direct\",\n",
      "  versionId: \"103697\",\n",
      "}\n",
      "</script><meta name=\"spm_prefix\" content=\"333.934\"><meta charset=\"utf-8\"><meta name=\"description\" content=\"bilibili是国内知名的视频弹幕网站，这里有最及时的动漫新番，最棒的ACG氛围，最有创意的Up主。大家可以在这里找到许多欢乐。\"><meta name=\"keywords\" content=\"Bilibili,哔哩哔哩,哔哩哔哩动画,哔哩哔哩弹幕网,弹幕视频,B站,弹幕,字幕,AMV,MAD,MTV,ANIME,动漫,动漫音乐,游戏,游戏解说,二次元,游戏视频,ACG,galgame,动画,番组,新番,初音,洛天依,vocaloid,日本动漫,国产动漫,手机游戏,网络游戏,电子竞技,ACG燃曲,ACG神曲,追新番,新番动漫,新番吐槽,巡音,镜音双子,千本樱,初音MIKU,舞蹈MMD,MIKUMIKUDANCE,洛天依原创曲,洛天依翻唱曲,洛天依投食歌,洛天依MMD,vocaloid家族,OST,BGM,动漫歌曲,日本动漫音乐,宫崎骏动漫音乐,动漫音乐推荐,燃系mad,治愈系mad,MAD MOVIE,MAD高燃\"><script type=\"text/javascript\" src=\"//www.bilibili.com/gentleman/polyfill.js?features=Promise%2CObject.assign%2CString.prototype.includes%2CNumber.isNaN2%CglobalThis\"></script><script type=\"text/javascript\" src=\"//s1.hdslb.com/bfs/cm/cm-sdk/static/js/bili-collect.js\" crossorigin></script><script type=\"text/javascript\">function getIEVersion(){var e=99;if(\"Microsoft Internet Explorer\"==navigator.appName){var t=navigator.userAgent;null!=new RegExp(\"MSIE ([0-9]{1,}[.0-9]{0,})\").exec(t)&&(e=parseFloat(RegExp.$1))}return e}getIEVersion()<11&&(window.location.href=\"https://www.bilibili.com/blackboard/activity-I7btnS22Z.html\")</script><script>window.reportMsgObj={},window.reportConfig={sample:1,scrollTracker:!0,msgObjects:\"reportMsgObj\"}</script><script src=\"//s1.hdslb.com/bfs/seed/log/report/log-reporter.js\"></script><script>window.__MIRROR_CONFIG__ = {\n",
      "        origin: 'main',\n",
      "        module: 'popular',\n",
      "        spmId: '333.934',\n",
      "        config: {\n",
      "          isAutoInit: true,\n",
      "          whiteScreen: {\n",
      "            maxLoop: 10,\n",
      "            checkDom: ['#app', '.popular-container'],\n",
      "            callback: status => {\n",
      "              console.log('白屏检测是否正常', status)\n",
      "            },\n",
      "            isSkeleton: false\n",
      "          }\n",
      "        }\n",
      "      }</script><script src=\"//s1.hdslb.com/bfs/seed/jinkela/short/b-mirror/biliMirror.umd.mini.js\"></script><link href=\"//s1.hdslb.com/bfs/static/jinkela/popular/css/popular.1.b128b0b3cb90b22d5e3fb2b560dfb4b675102274.css\" rel=\"stylesheet\"><link href=\"//s1.hdslb.com/bfs/static/jinkela/popular/css/popular.0.b128b0b3cb90b22d5e3fb2b560dfb4b675102274.css\" rel=\"stylesheet\"></head><body><div id=\"biliMainHeader\" type=\"all\" token-support=\"true\" onlybanner=\"\"></div><div id=\"popular-app\"></div><div class=\"footer bili-footer\"></div><script src=\"//s1.hdslb.com/bfs/seed/laputa-header/bili-header.umd.js\"></script><script>const el = document.getElementById('biliMainHeader')\n",
      "      const header = new BiliHeader({\n",
      "        config: {\n",
      "          headerType: 'medium',\n",
      "          themeSwitchHandler: (theme) => {\n",
      "            window.dispatchEvent(new CustomEvent(\"themechange\", { detail: theme }));\n",
      "          }\n",
      "        },\n",
      "      })\n",
      "      header.init(el)</script><script type=\"text/javascript\" src=\"//s1.hdslb.com/bfs/seed/laputa-footer/bili-footer.umd.js\" version=\"3\" theme-switch=\"true\" defer=\"defer\"></script><style>.international-header .primary-menu-itnl{display:none!important}.b-footer-wrap{width:1286px}.b-wrap{width:1370px}@media screen and (max-width:1870px){.b-wrap{width:1370px}}@media screen and (max-width:1310px){.bili-banner .b-logo{width:1125px}.b-footer-wrap{width:1070px}}</style><script type=\"text/javascript\" src=\"//s1.hdslb.com/bfs/seed/jinkela/short/auto-append-spmid.js\"></script><script type=\"text/javascript\" src=\"//s1.hdslb.com/bfs/static/jinkela/popular/1.popular.b128b0b3cb90b22d5e3fb2b560dfb4b675102274.js\"></script><script type=\"text/javascript\" src=\"//s1.hdslb.com/bfs/static/jinkela/popular/popular.b128b0b3cb90b22d5e3fb2b560dfb4b675102274.js\"></script></body></html>\n"
     ]
    }
   ],
   "source": [
    "import requests\n",
    "url = \"https://www.bilibili.com/v/popular/all\"\n",
    "headers = {\n",
    "    \"User-Agent\": \"Mozilla/5.0 (Windows NT 10.0; Win64; x64) AppleWebKit/537.36 (KHTML, like Gecko) Chrome/135.0.0.0 Safari/537.36\"\n",
    "}\n",
    "\n",
    "# 发起请求\n",
    "response = requests.get(url, headers=headers)\n",
    "\n",
    "# 打印响应内容\n",
    "print(response.text)"
   ]
  },
  {
   "cell_type": "code",
   "execution_count": null,
   "id": "fab7ca24-c0b5-4307-ac0c-281f7006736e",
   "metadata": {},
   "outputs": [],
   "source": []
  }
 ],
 "metadata": {
  "kernelspec": {
   "display_name": "Python 3 (ipykernel)",
   "language": "python",
   "name": "python3"
  },
  "language_info": {
   "codemirror_mode": {
    "name": "ipython",
    "version": 3
   },
   "file_extension": ".py",
   "mimetype": "text/x-python",
   "name": "python",
   "nbconvert_exporter": "python",
   "pygments_lexer": "ipython3",
   "version": "3.11.7"
  }
 },
 "nbformat": 4,
 "nbformat_minor": 5
}

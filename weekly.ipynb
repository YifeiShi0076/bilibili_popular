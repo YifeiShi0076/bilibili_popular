{
 "cells": [
  {
   "cell_type": "code",
   "execution_count": 1,
   "id": "d16e1788",
   "metadata": {},
   "outputs": [],
   "source": [
    "import pandas as pd\n",
    "import requests"
   ]
  },
  {
   "cell_type": "code",
   "execution_count": 2,
   "id": "0ded7e78",
   "metadata": {},
   "outputs": [],
   "source": [
    "df_lst = []\n",
    "columns = ['aid', 'tid', 'tname', 'title', 'duration', 'mid', 'name', 'view', 'danmaku', 'reply', 'favorite', 'coin', 'share', 'like', 'short_link_v2', 'pub_location', 'pubdate', 'rcmd_reason']"
   ]
  },
  {
   "cell_type": "code",
   "execution_count": null,
   "id": "6e8010c1",
   "metadata": {},
   "outputs": [],
   "source": [
    "def fetch_data(\n",
    "    page: int\n",
    "):\n",
    "    tar = f\"https://api.bilibili.com/x/web-interface/popular/series/one?number={page}\"\n",
    "    headers = {\n",
    "        'User-Agent': 'Mozilla/5.0 (Windows NT 10.0; Win64; x64) AppleWebKit/537.36 (KHTML, like Gecko) Chrome/136.0.0.0 Safari/537.36',\n",
    "        # 'Cookie': \n",
    "    }\n",
    "    response = requests.get(tar, headers=headers)\n",
    "    data = response.json()\n",
    "    if data.get('code') == 0 and 'data' in data and 'list' in data.get('data', {}):\n",
    "        data_list = data['data']['list']\n",
    "        for item in data_list:\n",
    "            tmp = []\n",
    "            tmp.append(item.get('aid', None))                      # 视频ID\n",
    "            tmp.append(item.get('tid', None))                      # 分区ID\n",
    "            tmp.append(item.get('tname', None))                    # 分区\n",
    "            tmp.append(item.get('title', None))                    # 标题     \n",
    "            tmp.append(item.get('duration', None))                 # 时长 s\n",
    "            \n",
    "            # 处理嵌套字典\n",
    "            owner = item.get('owner', {})\n",
    "            tmp.append(owner.get('mid', None))                    # up主id\n",
    "            tmp.append(owner.get('name', None))                   # up主名称\n",
    "\n",
    "            # 处理统计数据\n",
    "            stat = item.get('stat', {})\n",
    "            tmp.append(stat.get('view', None))                    # 播放量\n",
    "            tmp.append(stat.get('danmaku', None))                 # 弹幕量\n",
    "            tmp.append(stat.get('reply', None))                   # 评论量\n",
    "            tmp.append(stat.get('favorite', None))                # 收藏量\n",
    "            tmp.append(stat.get('coin', None))                    # 硬币量\n",
    "            tmp.append(stat.get('share', None))                   # 分享量\n",
    "            tmp.append(stat.get('like', None))                    # 点赞量\n",
    "\n",
    "            tmp.append(item.get('short_link_v2', None))           # 短链接\n",
    "            tmp.append(item.get('pub_location', None))            # 位置\n",
    "            tmp.append(item.get('pubdate', None))                 # 发布时间\n",
    "            tmp.append(item.get('rcmd_reason', None))             # 推荐理由\n",
    "            df_lst.append(tmp)\n",
    "    else:\n",
    "        print(f\"Error fetching data of page {page}: {data.get('message', 'Unknown error')}\")"
   ]
  },
  {
   "cell_type": "code",
   "execution_count": 6,
   "id": "9cb308ce",
   "metadata": {},
   "outputs": [
    {
     "name": "stdout",
     "output_type": "stream",
     "text": [
      "Error fetching data of page 105: 啥都木有\n"
     ]
    }
   ],
   "source": [
    "for i in range(1, 322):\n",
    "    try:\n",
    "        fetch_data(i)\n",
    "    except Exception as e:\n",
    "        print(f\"Error fetching data of page {i}: {e}\")\n",
    "        continue"
   ]
  },
  {
   "cell_type": "code",
   "execution_count": 7,
   "id": "c0a3dd14",
   "metadata": {},
   "outputs": [],
   "source": [
    "df = pd.DataFrame(df_lst, columns=columns)\n",
    "df.index = df.index + 1\n",
    "df.to_csv('bilibili.csv', index=True, encoding='utf-8-sig')"
   ]
  },
  {
   "cell_type": "code",
   "execution_count": null,
   "id": "3c957f72",
   "metadata": {},
   "outputs": [
    {
     "name": "stdout",
     "output_type": "stream",
     "text": [
      "<class 'pandas.core.frame.DataFrame'>\n",
      "RangeIndex: 11564 entries, 1 to 11564\n",
      "Data columns (total 18 columns):\n",
      " #   Column         Non-Null Count  Dtype \n",
      "---  ------         --------------  ----- \n",
      " 0   aid            11564 non-null  int64 \n",
      " 1   tid            11564 non-null  int64 \n",
      " 2   tname          11564 non-null  object\n",
      " 3   title          11564 non-null  object\n",
      " 4   duration       11564 non-null  int64 \n",
      " 5   mid            11564 non-null  int64 \n",
      " 6   name           11564 non-null  object\n",
      " 7   view           11564 non-null  int64 \n",
      " 8   danmaku        11564 non-null  int64 \n",
      " 9   reply          11564 non-null  int64 \n",
      " 10  favorite       11564 non-null  int64 \n",
      " 11  coin           11564 non-null  int64 \n",
      " 12  share          11564 non-null  int64 \n",
      " 13  like           11564 non-null  int64 \n",
      " 14  short_link_v2  11564 non-null  object\n",
      " 15  pub_location   7550 non-null   object\n",
      " 16  pubdate        11564 non-null  int64 \n",
      " 17  rcmd_reason    11564 non-null  object\n",
      "dtypes: int64(12), object(6)\n",
      "memory usage: 1.6+ MB\n"
     ]
    }
   ],
   "source": [
    "df.info()"
   ]
  }
 ],
 "metadata": {
  "kernelspec": {
   "display_name": "bigdata",
   "language": "python",
   "name": "python3"
  },
  "language_info": {
   "codemirror_mode": {
    "name": "ipython",
    "version": 3
   },
   "file_extension": ".py",
   "mimetype": "text/x-python",
   "name": "python",
   "nbconvert_exporter": "python",
   "pygments_lexer": "ipython3",
   "version": "3.10.17"
  }
 },
 "nbformat": 4,
 "nbformat_minor": 5
}
